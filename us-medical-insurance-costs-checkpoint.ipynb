{
 "cells": [
  {
   "cell_type": "markdown",
   "metadata": {},
   "source": [
    "# U.S. Medical Insurance Costs"
   ]
  },
  {
   "cell_type": "code",
   "execution_count": 129,
   "metadata": {},
   "outputs": [],
   "source": [
    "import csv"
   ]
  },
  {
   "cell_type": "markdown",
   "metadata": {},
   "source": [
    "## 1. get and prepare data"
   ]
  },
  {
   "cell_type": "code",
   "execution_count": 145,
   "metadata": {},
   "outputs": [],
   "source": [
    "age = []\n",
    "sex = []\n",
    "bmi = []\n",
    "children = []\n",
    "smoker = []\n",
    "region = []\n",
    "charges = []\n",
    "big_list = []\n",
    "\n",
    "with open('insurance.csv') as insurance_file:\n",
    "    insurance = csv.DictReader(insurance_file)\n",
    "    for row in insurance:\n",
    "        big_list.append(dict(row))\n",
    "        \n",
    "for row in big_list:\n",
    "    row['age'] = int(row['age'])\n",
    "    row['children'] = int(row['children'])\n",
    "    row['bmi'] = float(row['bmi'])\n",
    "    row['charges'] = float(row['charges'])\n",
    "\n",
    "for line in big_list:\n",
    "    age.append(int(line['age'])) \n",
    "    sex.append(line['sex']) \n",
    "    bmi.append(float(line['bmi'])) \n",
    "    children.append(int(line['children'])) \n",
    "    smoker.append(line['smoker'])  \n",
    "    region.append(line['region']) \n",
    "    charges.append(float(line['charges']))    "
   ]
  },
  {
   "cell_type": "code",
   "execution_count": null,
   "metadata": {},
   "outputs": [],
   "source": []
  },
  {
   "cell_type": "markdown",
   "metadata": {},
   "source": [
    "## 2. analysis funtion"
   ]
  },
  {
   "cell_type": "code",
   "execution_count": 143,
   "metadata": {},
   "outputs": [],
   "source": [
    "def average_of_sth(data: list,name: str = None) -> float:\n",
    "    '''returns the average of a listz with int or float in it'''\n",
    "    total = 0\n",
    "    for number in data:\n",
    "        total += number\n",
    "    average = total / len(data)\n",
    "    if name == None:\n",
    "        print('The Average is ',average)\n",
    "    else:\n",
    "        print('The Average of the {name} is {avg}'.format(name=name,avg=average))\n",
    "    return average\n",
    "\n",
    "def average_age_child(data: list) -> int:\n",
    "    '''funtion gets list of dicts and returns the average age of someone who has at least one child'''\n",
    "    counter_parent = 0\n",
    "    counter_non_parent = 0\n",
    "    total_age_non_parent = 0\n",
    "    total_age_parent = 0\n",
    "    for row in data:\n",
    "        if row['children'] >= 1:\n",
    "            total_age_parent += row['age']\n",
    "            counter_parent += 1\n",
    "        else:\n",
    "            total_age_non_parent += row['age']\n",
    "            counter_non_parent += 1\n",
    "    average_non_parent_age = total_age_non_parent / counter_non_parent\n",
    "    average_parent_age = total_age_parent / counter_parent\n",
    "    print('The average age of a parent is {avg}'.format(avg=average_parent_age))\n",
    "    print('The average age of a person without childs is {avg}'.format(avg=average_non_parent_age))\n",
    "    return average_parent_age"
   ]
  }
 ],
 "metadata": {
  "kernelspec": {
   "display_name": "Python 3",
   "language": "python",
   "name": "python3"
  },
  "language_info": {
   "codemirror_mode": {
    "name": "ipython",
    "version": 3
   },
   "file_extension": ".py",
   "mimetype": "text/x-python",
   "name": "python",
   "nbconvert_exporter": "python",
   "pygments_lexer": "ipython3",
   "version": "3.7.6"
  }
 },
 "nbformat": 4,
 "nbformat_minor": 4
}
