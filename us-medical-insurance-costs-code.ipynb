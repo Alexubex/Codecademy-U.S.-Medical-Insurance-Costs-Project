{
 "cells": [
  {
   "cell_type": "markdown",
   "metadata": {},
   "source": [
    "# U.S. Medical Insurance Costs"
   ]
  },
  {
   "cell_type": "code",
   "execution_count": 207,
   "metadata": {},
   "outputs": [],
   "source": [
    "import csv"
   ]
  },
  {
   "cell_type": "markdown",
   "metadata": {},
   "source": [
    "## 1. Get and prepare data"
   ]
  },
  {
   "cell_type": "code",
   "execution_count": 208,
   "metadata": {},
   "outputs": [],
   "source": [
    "age = []\n",
    "sex = []\n",
    "bmi = []\n",
    "children = []\n",
    "smoker = []\n",
    "region = []\n",
    "charges = []\n",
    "data = []\n",
    "\n",
    "with open('insurance.csv') as insurance_file:\n",
    "    insurance = csv.DictReader(insurance_file)\n",
    "    for row in insurance:\n",
    "        data.append(dict(row))\n",
    "        \n",
    "for row in data:\n",
    "    row['age'] = int(row['age'])\n",
    "    row['children'] = int(row['children'])\n",
    "    row['bmi'] = float(row['bmi'])\n",
    "    row['charges'] = float(row['charges'])\n",
    "\n",
    "for line in data:\n",
    "    age.append(int(line['age'])) \n",
    "    sex.append(line['sex']) \n",
    "    bmi.append(float(line['bmi'])) \n",
    "    children.append(int(line['children'])) \n",
    "    smoker.append(line['smoker'])  \n",
    "    region.append(line['region']) \n",
    "    charges.append(float(line['charges']))    "
   ]
  },
  {
   "cell_type": "code",
   "execution_count": null,
   "metadata": {},
   "outputs": [],
   "source": []
  },
  {
   "cell_type": "markdown",
   "metadata": {},
   "source": [
    "## 2. Analysis funtion"
   ]
  },
  {
   "cell_type": "markdown",
   "metadata": {},
   "source": [
    "####        Funtion to get avg. of sth.."
   ]
  },
  {
   "cell_type": "code",
   "execution_count": 209,
   "metadata": {},
   "outputs": [],
   "source": [
    "def average_of_sth(data: list,name: str = None) -> float:\n",
    "    '''returns the average of a listz with int or float in it'''\n",
    "    total = 0\n",
    "    for number in data:\n",
    "        total += number\n",
    "    average = total / len(data)\n",
    "    if name == None:\n",
    "        print('The Average is ',average)\n",
    "    else:\n",
    "        print('The Average of the {name} is {avg}'.format(name=name,avg=average))\n",
    "    return average"
   ]
  },
  {
   "cell_type": "markdown",
   "metadata": {},
   "source": [
    "####        Funtion to get the avg. age of a person with child/s."
   ]
  },
  {
   "cell_type": "code",
   "execution_count": 210,
   "metadata": {},
   "outputs": [],
   "source": [
    "def average_age_child(data: list) -> int:\n",
    "    '''funtion gets list of dicts and returns the average age of someone who has at least one child'''\n",
    "    counter_parent = 0\n",
    "    counter_non_parent = 0\n",
    "    total_age_non_parent = 0\n",
    "    total_age_parent = 0\n",
    "    for row in data:\n",
    "        if row['children'] >= 1:\n",
    "            total_age_parent += row['age']\n",
    "            counter_parent += 1\n",
    "        else:\n",
    "            total_age_non_parent += row['age']\n",
    "            counter_non_parent += 1\n",
    "    average_non_parent_age = total_age_non_parent / counter_non_parent\n",
    "    average_parent_age = total_age_parent / counter_parent\n",
    "    print('The average age of a parent is {avg}'.format(avg=average_parent_age))\n",
    "    print('The average age of a person without childs is {avg}'.format(avg=average_non_parent_age))\n",
    "    return average_parent_age"
   ]
  },
  {
   "cell_type": "markdown",
   "metadata": {},
   "source": [
    " #### Most present String out of a List"
   ]
  },
  {
   "cell_type": "code",
   "execution_count": 211,
   "metadata": {},
   "outputs": [],
   "source": [
    "def most_str(data: list,theme: str = '') -> str:\n",
    "    '''returns the most present String out of a List'''\n",
    "    set_data = set(data)\n",
    "    record = 0\n",
    "    for name in set_data:\n",
    "        if data.count(name) > record:\n",
    "            favorit = name\n",
    "    if theme == '':\n",
    "        print('The majority is',favorit)\n",
    "    else:\n",
    "        print('The mayority to the topic {the} is {fav}'.format(the=theme,fav=favorit))\n",
    "    return favorit\n",
    "            "
   ]
  },
  {
   "cell_type": "markdown",
   "metadata": {},
   "source": [
    "#### Avg. differenze between a Smoker and a No Smoker in costs"
   ]
  },
  {
   "cell_type": "code",
   "execution_count": 215,
   "metadata": {},
   "outputs": [],
   "source": [
    "def dif_betw(data: list,para: str) -> float:\n",
    "    para_set = set([row[para] for row in data])\n",
    "    para_dict = {}\n",
    "    for value in para_set:\n",
    "        para_dict[value] = []\n",
    "        for row in data:\n",
    "            if row[para] == value:\n",
    "                para_dict[value].append(row['charges'])\n",
    "        \n",
    "    "
   ]
  },
  {
   "cell_type": "code",
   "execution_count": 214,
   "metadata": {},
   "outputs": [
    {
     "name": "stdout",
     "output_type": "stream",
     "text": [
      "{'yes', 'no'}\n"
     ]
    }
   ],
   "source": [
    "print(dif_betw(data,'smoker'))"
   ]
  },
  {
   "cell_type": "code",
   "execution_count": 217,
   "metadata": {},
   "outputs": [
    {
     "name": "stdout",
     "output_type": "stream",
     "text": [
      "t\n",
      "e\n"
     ]
    }
   ],
   "source": [
    "g = {'t':2,'e':3}\n",
    "for f in g:\n",
    "    print(f)"
   ]
  },
  {
   "cell_type": "code",
   "execution_count": null,
   "metadata": {},
   "outputs": [],
   "source": []
  }
 ],
 "metadata": {
  "kernelspec": {
   "display_name": "Python 3",
   "language": "python",
   "name": "python3"
  },
  "language_info": {
   "codemirror_mode": {
    "name": "ipython",
    "version": 3
   },
   "file_extension": ".py",
   "mimetype": "text/x-python",
   "name": "python",
   "nbconvert_exporter": "python",
   "pygments_lexer": "ipython3",
   "version": "3.7.6"
  }
 },
 "nbformat": 4,
 "nbformat_minor": 4
}
