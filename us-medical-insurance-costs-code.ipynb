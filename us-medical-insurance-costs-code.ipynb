{
 "cells": [
  {
   "cell_type": "markdown",
   "metadata": {},
   "source": [
    "# U.S. Medical Insurance Costs"
   ]
  },
  {
   "cell_type": "code",
   "execution_count": 154,
   "metadata": {},
   "outputs": [],
   "source": [
    "import csv"
   ]
  },
  {
   "cell_type": "markdown",
   "metadata": {},
   "source": [
    "## 1. Get and prepare data"
   ]
  },
  {
   "cell_type": "code",
   "execution_count": 155,
   "metadata": {},
   "outputs": [],
   "source": [
    "age = []\n",
    "sex = []\n",
    "bmi = []\n",
    "children = []\n",
    "smoker = []\n",
    "region = []\n",
    "charges = []\n",
    "data = []\n",
    "\n",
    "with open('insurance.csv') as insurance_file:\n",
    "    insurance = csv.DictReader(insurance_file)\n",
    "    for row in insurance:\n",
    "        data.append(dict(row))\n",
    "        \n",
    "for row in data:\n",
    "    row['age'] = int(row['age'])\n",
    "    row['children'] = int(row['children'])\n",
    "    row['bmi'] = float(row['bmi'])\n",
    "    row['charges'] = float(row['charges'])\n",
    "\n",
    "for line in data:\n",
    "    age.append(int(line['age'])) \n",
    "    sex.append(line['sex']) \n",
    "    bmi.append(float(line['bmi'])) \n",
    "    children.append(int(line['children'])) \n",
    "    smoker.append(line['smoker'])  \n",
    "    region.append(line['region']) \n",
    "    charges.append(float(line['charges']))    "
   ]
  },
  {
   "cell_type": "markdown",
   "metadata": {},
   "source": [
    "## 2. Analysis funtion"
   ]
  },
  {
   "cell_type": "markdown",
   "metadata": {},
   "source": [
    "####        Funtion to get avg. of sth.."
   ]
  },
  {
   "cell_type": "code",
   "execution_count": 156,
   "metadata": {},
   "outputs": [],
   "source": [
    "def average_of_sth(data: list,name: str = None) -> float:\n",
    "    '''returns the average of a listz with int or float in it'''\n",
    "    total = 0\n",
    "    for number in data:\n",
    "        total += number\n",
    "    average = total / len(data)\n",
    "    if name == None:\n",
    "        print('The Average is ',average)\n",
    "    else:\n",
    "        print('The Average of the {name} is {avg}'.format(name=name,avg=average))\n",
    "    return average"
   ]
  },
  {
   "cell_type": "markdown",
   "metadata": {},
   "source": [
    "####        Funtion to get the avg. age of a person with child/s."
   ]
  },
  {
   "cell_type": "code",
   "execution_count": 157,
   "metadata": {},
   "outputs": [],
   "source": [
    "def average_age_child(data: list) -> int:\n",
    "    '''funtion gets list of dicts and returns the average age of someone who has at least one child'''\n",
    "    counter_parent = 0\n",
    "    counter_non_parent = 0\n",
    "    total_age_non_parent = 0\n",
    "    total_age_parent = 0\n",
    "    for row in data:\n",
    "        if row['children'] >= 1:\n",
    "            total_age_parent += row['age']\n",
    "            counter_parent += 1\n",
    "        else:\n",
    "            total_age_non_parent += row['age']\n",
    "            counter_non_parent += 1\n",
    "    average_non_parent_age = total_age_non_parent / counter_non_parent\n",
    "    average_parent_age = total_age_parent / counter_parent\n",
    "    print('The average age of a parent is {avg}'.format(avg=average_parent_age))\n",
    "    print('The average age of a person without childs is {avg}'.format(avg=average_non_parent_age))\n",
    "    return average_parent_age"
   ]
  },
  {
   "cell_type": "markdown",
   "metadata": {},
   "source": [
    " #### Most present String out of a List"
   ]
  },
  {
   "cell_type": "code",
   "execution_count": 158,
   "metadata": {},
   "outputs": [],
   "source": [
    "def most_str(data: list,theme: str = '') -> str:\n",
    "    '''returns the most present string out of a list'''\n",
    "    set_data = set(data)\n",
    "    record = 0\n",
    "    for name in set_data:\n",
    "        if data.count(name) > record:\n",
    "            favorit = name\n",
    "    if theme == '':\n",
    "        print('The majority is',favorit)\n",
    "    else:\n",
    "        print('The mayority to the topic {the} is {fav}'.format(the=theme,fav=favorit))\n",
    "    return favorit\n",
    "            "
   ]
  },
  {
   "cell_type": "markdown",
   "metadata": {},
   "source": [
    "#### Avg. differenze between a Smoker and a No Smoker in costs"
   ]
  },
  {
   "cell_type": "code",
   "execution_count": 159,
   "metadata": {},
   "outputs": [],
   "source": [
    "def dif_betw(data: list,para: str) -> float:\n",
    "    '''retruns the differenze between a parameter and the charges'''\n",
    "    para_list = list(set([row[para] for row in data]))\n",
    "    para_dict = {}\n",
    "    for value in para_list:\n",
    "        para_dict[value] = []\n",
    "        for row in data:\n",
    "            if row[para] == value:\n",
    "                para_dict[value].append(row['charges'])\n",
    "        para_dict[str(value)+'_avg'] = sum(para_dict[value]) / len(para_dict[value])\n",
    "    cost = []\n",
    "    for i in  range(len(para_list)-1):\n",
    "        cost.append((para_dict[str(para_list[i])+'_avg']) - (para_dict[str(para_list[i+1])+'_avg']))\n",
    "    avg_cost = sum(cost) / len(cost)\n",
    "    stages = str(para_list)\n",
    "    print('The average differenz between the stages {stages} in the thematic area {topic} in costs is {cost}.'\n",
    "            .format(stages=stages,topic=para,cost=str(avg_cost)))\n",
    "    return avg_cost\n",
    "    "
   ]
  },
  {
   "cell_type": "markdown",
   "metadata": {},
   "source": [
    "## 3. Save results in variables"
   ]
  },
  {
   "cell_type": "markdown",
   "metadata": {},
   "source": [
    "#### Average\n",
    "\n"
   ]
  },
  {
   "cell_type": "code",
   "execution_count": 160,
   "metadata": {},
   "outputs": [
    {
     "name": "stdout",
     "output_type": "stream",
     "text": [
      "The Average of the Cost is 13270.422265141257\n",
      "The Average of the Age is 39.20702541106129\n",
      "The Average of the BMI is 30.663396860986538\n",
      "The Average of the Children is 1.0949177877429\n"
     ]
    }
   ],
   "source": [
    "avg_cost = average_of_sth(charges,'Cost') \n",
    "avg_age = average_of_sth(age,'Age') \n",
    "avg_bmi = average_of_sth(bmi,'BMI') \n",
    "avg_children = average_of_sth(children,'Children') "
   ]
  },
  {
   "cell_type": "markdown",
   "metadata": {},
   "source": [
    "#### avg. age of a person with child/s."
   ]
  },
  {
   "cell_type": "code",
   "execution_count": 161,
   "metadata": {},
   "outputs": [
    {
     "name": "stdout",
     "output_type": "stream",
     "text": [
      "The average age of a parent is 39.78010471204188\n",
      "The average age of a person without childs is 38.444250871080136\n"
     ]
    },
    {
     "data": {
      "text/plain": [
       "39.78010471204188"
      ]
     },
     "execution_count": 161,
     "metadata": {},
     "output_type": "execute_result"
    }
   ],
   "source": [
    "average_age_child(data)"
   ]
  },
  {
   "cell_type": "markdown",
   "metadata": {},
   "source": [
    "#### Most present out of a string"
   ]
  },
  {
   "cell_type": "code",
   "execution_count": 162,
   "metadata": {},
   "outputs": [
    {
     "name": "stdout",
     "output_type": "stream",
     "text": [
      "The mayority to the topic Region is southwest\n",
      "The mayority to the topic Smoker is yes\n",
      "The mayority to the topic Sex is male\n"
     ]
    }
   ],
   "source": [
    "most_region = most_str(region,'Region')\n",
    "most_smoker = most_str(smoker,'Smoker')\n",
    "most_sex = most_str(sex,'Sex')"
   ]
  },
  {
   "cell_type": "markdown",
   "metadata": {},
   "source": [
    "#### Avg. differenze between a parameter and cost"
   ]
  },
  {
   "cell_type": "code",
   "execution_count": 163,
   "metadata": {},
   "outputs": [
    {
     "name": "stdout",
     "output_type": "stream",
     "text": [
      "The average differenz between the stages ['no', 'yes'] in the thematic area smoker in costs is -23615.96353367665.\n",
      "The average differenz between the stages [0, 1, 2, 3, 4, 5] in the thematic area children in costs is 715.988070882732.\n",
      "The average differenz between the stages ['female', 'male'] in the thematic area sex in costs is -1387.1723338865468.\n"
     ]
    }
   ],
   "source": [
    "smoker_cost = dif_betw(data,'smoker')\n",
    "child_cost = dif_betw(data,'children')\n",
    "sex_cost = dif_betw(data,'sex')"
   ]
  }
 ],
 "metadata": {
  "kernelspec": {
   "display_name": "Python 3",
   "language": "python",
   "name": "python3"
  },
  "language_info": {
   "codemirror_mode": {
    "name": "ipython",
    "version": 3
   },
   "file_extension": ".py",
   "mimetype": "text/x-python",
   "name": "python",
   "nbconvert_exporter": "python",
   "pygments_lexer": "ipython3",
   "version": "3.7.6"
  }
 },
 "nbformat": 4,
 "nbformat_minor": 4
}
