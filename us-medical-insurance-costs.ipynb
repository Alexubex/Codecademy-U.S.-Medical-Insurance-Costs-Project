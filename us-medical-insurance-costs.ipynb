{
 "cells": [
  {
   "cell_type": "markdown",
   "metadata": {},
   "source": [
    "# U.S. Medical Insurance Costs"
   ]
  },
  {
   "cell_type": "code",
   "execution_count": 129,
   "metadata": {},
   "outputs": [],
   "source": [
    "import csv"
   ]
  },
  {
   "cell_type": "markdown",
   "metadata": {},
   "source": [
    "## 1. get and prepare data"
   ]
  },
  {
   "cell_type": "code",
   "execution_count": 145,
   "metadata": {},
   "outputs": [],
   "source": [
    "age = []\n",
    "sex = []\n",
    "bmi = []\n",
    "children = []\n",
    "smoker = []\n",
    "region = []\n",
    "charges = []\n",
    "big_list = []\n",
    "\n",
    "with open('insurance.csv') as insurance_file:\n",
    "    insurance = csv.DictReader(insurance_file)\n",
    "    for row in insurance:\n",
    "        big_list.append(dict(row))\n",
    "        \n",
    "for row in big_list:\n",
    "    row['age'] = int(row['age'])\n",
    "    row['children'] = int(row['children'])\n",
    "    row['bmi'] = float(row['bmi'])\n",
    "    row['charges'] = float(row['charges'])\n",
    "\n",
    "for line in big_list:\n",
    "    age.append(int(line['age'])) \n",
    "    sex.append(line['sex']) \n",
    "    bmi.append(float(line['bmi'])) \n",
    "    children.append(int(line['children'])) \n",
    "    smoker.append(line['smoker'])  \n",
    "    region.append(line['region']) \n",
    "    charges.append(float(line['charges']))    "
   ]
  },
  {
   "cell_type": "code",
   "execution_count": null,
   "metadata": {},
   "outputs": [],
   "source": []
  },
  {
   "cell_type": "markdown",
   "metadata": {},
   "source": [
    "## 2. analysis funtion"
   ]
  },
  {
   "cell_type": "code",
   "execution_count": 143,
   "metadata": {},
   "outputs": [],
   "source": [
    "x"
   ]
  }
 ],
 "metadata": {
  "kernelspec": {
   "display_name": "Python 3",
   "language": "python",
   "name": "python3"
  },
  "language_info": {
   "codemirror_mode": {
    "name": "ipython",
    "version": 3
   },
   "file_extension": ".py",
   "mimetype": "text/x-python",
   "name": "python",
   "nbconvert_exporter": "python",
   "pygments_lexer": "ipython3",
   "version": "3.7.6"
  }
 },
 "nbformat": 4,
 "nbformat_minor": 4
}
